{
  "cells": [
    {
      "cell_type": "markdown",
      "metadata": {
        "id": "ml8RTXFZxPkd"
      },
      "source": [
        "## SetUp"
      ]
    },
    {
      "cell_type": "code",
      "execution_count": 2,
      "metadata": {
        "id": "4o-1GNYVxWUw"
      },
      "outputs": [
        {
          "name": "stdout",
          "output_type": "stream",
          "text": [
            "Requirement already satisfied: validators in c:\\users\\groxempire\\appdata\\local\\programs\\python\\python39\\lib\\site-packages (0.19.0)\n",
            "Requirement already satisfied: decorator>=3.4.0 in c:\\users\\groxempire\\appdata\\roaming\\python\\python39\\site-packages (from validators) (5.1.1)\n"
          ]
        },
        {
          "name": "stderr",
          "output_type": "stream",
          "text": [
            "WARNING: There was an error checking the latest version of pip.\n"
          ]
        },
        {
          "name": "stdout",
          "output_type": "stream",
          "text": [
            "Requirement already satisfied: opencv-python in c:\\users\\groxempire\\appdata\\local\\programs\\python\\python39\\lib\\site-packages (4.5.5.64)\n",
            "Requirement already satisfied: numpy>=1.14.5 in c:\\users\\groxempire\\appdata\\local\\programs\\python\\python39\\lib\\site-packages (from opencv-python) (1.22.3)\n"
          ]
        },
        {
          "name": "stderr",
          "output_type": "stream",
          "text": [
            "WARNING: There was an error checking the latest version of pip.\n"
          ]
        }
      ],
      "source": [
        "!pip install validators\n",
        "!pip install opencv-python"
      ]
    },
    {
      "cell_type": "code",
      "execution_count": 3,
      "metadata": {
        "id": "5Mme4MUCxVM8"
      },
      "outputs": [
        {
          "data": {
            "text/plain": [
              "'2.8.0'"
            ]
          },
          "execution_count": 3,
          "metadata": {},
          "output_type": "execute_result"
        }
      ],
      "source": [
        "import typing\n",
        "import string\n",
        "\n",
        "import tensorflow as tf\n",
        "from tensorflow import keras\n",
        "from keras.preprocessing.image import ImageDataGenerator\n",
        "import numpy as np\n",
        "import cv2\n",
        "import os\n",
        "import hashlib\n",
        "\n",
        "import urllib.request\n",
        "import urllib.parse\n",
        "\n",
        "tf.__version__"
      ]
    },
    {
      "cell_type": "markdown",
      "metadata": {
        "id": "PwgbqcnBxnc9"
      },
      "source": [
        "### Hyper-Parameters"
      ]
    },
    {
      "cell_type": "code",
      "execution_count": 4,
      "metadata": {
        "id": "duqhKKqbxpc9"
      },
      "outputs": [],
      "source": [
        "DEFAULT_BUILD_PARAMS = {\n",
        "    'height': 31,\n",
        "    'width': 200,\n",
        "    'color': False,\n",
        "    'filters': (64, 128, 256, 256, 512, 512, 512),\n",
        "    'rnn_units': (128, 128),\n",
        "    'dropout': 0.25,\n",
        "    'rnn_steps_to_discard': 2,\n",
        "    'pool_size': 2,\n",
        "    'stn': True,\n",
        "}\n",
        "\n",
        "DEFAULT_ALPHABET = string.digits + string.ascii_lowercase\n",
        "\n",
        "PRETRAINED_WEIGHTS = {\n",
        "    'kurapan': {\n",
        "        'alphabet': DEFAULT_ALPHABET,\n",
        "        'build_params': DEFAULT_BUILD_PARAMS,\n",
        "        'weights': {\n",
        "            'notop': {\n",
        "                'url':\n",
        "                'https://github.com/faustomorales/keras-ocr/releases/download/v0.8.4/crnn_kurapan_notop.h5',\n",
        "                'filename': 'crnn_kurapan_notop.h5',\n",
        "                'sha256': '027fd2cced3cbea0c4f5894bb8e9e85bac04f11daf96b8fdcf1e4ee95dcf51b9'\n",
        "            },\n",
        "            'top': {\n",
        "                'url':\n",
        "                'https://github.com/faustomorales/keras-ocr/releases/download/v0.8.4/crnn_kurapan.h5',\n",
        "                'filename': 'crnn_kurapan.h5',\n",
        "                'sha256': 'a7d8086ac8f5c3d6a0a828f7d6fbabcaf815415dd125c32533013f85603be46d'\n",
        "            }\n",
        "        }\n",
        "    }\n",
        "}"
      ]
    },
    {
      "cell_type": "markdown",
      "metadata": {
        "id": "bH9oviLCzOI6"
      },
      "source": [
        "## Utilities"
      ]
    },
    {
      "cell_type": "code",
      "execution_count": 5,
      "metadata": {
        "id": "GkP9-8YZzTWh"
      },
      "outputs": [],
      "source": [
        "def swish(x, beta=1):\n",
        "    return x * keras.backend.sigmoid(beta * x)\n",
        "\n",
        "\n",
        "keras.utils.get_custom_objects().update({'swish': keras.layers.Activation(swish)})\n",
        "\n",
        "\n",
        "def _repeat(x, num_repeats):\n",
        "    ones = tf.ones((1, num_repeats), dtype='int32')\n",
        "    x = tf.reshape(x, shape=(-1, 1))\n",
        "    x = tf.matmul(x, ones)\n",
        "    return tf.reshape(x, [-1])\n",
        "\n",
        "\n",
        "def _meshgrid(height, width):\n",
        "    x_linspace = tf.linspace(-1., 1., width)\n",
        "    y_linspace = tf.linspace(-1., 1., height)\n",
        "    x_coordinates, y_coordinates = tf.meshgrid(x_linspace, y_linspace)\n",
        "    x_coordinates = tf.reshape(x_coordinates, shape=(1, -1))\n",
        "    y_coordinates = tf.reshape(y_coordinates, shape=(1, -1))\n",
        "    ones = tf.ones_like(x_coordinates)\n",
        "    indices_grid = tf.concat([x_coordinates, y_coordinates, ones], 0)\n",
        "    return indices_grid\n",
        "\n",
        "\n",
        "# pylint: disable=too-many-statements\n",
        "def _transform(inputs):\n",
        "    locnet_x, locnet_y = inputs\n",
        "    output_size = locnet_x.shape[1:]\n",
        "    batch_size = tf.shape(locnet_x)[0]\n",
        "    height = tf.shape(locnet_x)[1]\n",
        "    width = tf.shape(locnet_x)[2]\n",
        "    num_channels = tf.shape(locnet_x)[3]\n",
        "\n",
        "    locnet_y = tf.reshape(locnet_y, shape=(batch_size, 2, 3))\n",
        "\n",
        "    locnet_y = tf.reshape(locnet_y, (-1, 2, 3))\n",
        "    locnet_y = tf.cast(locnet_y, 'float32')\n",
        "\n",
        "    output_height = output_size[0]\n",
        "    output_width = output_size[1]\n",
        "    indices_grid = _meshgrid(output_height, output_width)\n",
        "    indices_grid = tf.expand_dims(indices_grid, 0)\n",
        "    indices_grid = tf.reshape(indices_grid, [-1])  # flatten?\n",
        "    indices_grid = tf.tile(indices_grid, tf.stack([batch_size]))\n",
        "    indices_grid = tf.reshape(indices_grid, tf.stack([batch_size, 3, -1]))\n",
        "\n",
        "    transformed_grid = tf.matmul(locnet_y, indices_grid)\n",
        "    x_s = tf.slice(transformed_grid, [0, 0, 0], [-1, 1, -1])\n",
        "    y_s = tf.slice(transformed_grid, [0, 1, 0], [-1, 1, -1])\n",
        "    x = tf.reshape(x_s, [-1])\n",
        "    y = tf.reshape(y_s, [-1])\n",
        "\n",
        "    # Interpolate\n",
        "    height_float = tf.cast(height, dtype='float32')\n",
        "    width_float = tf.cast(width, dtype='float32')\n",
        "\n",
        "    output_height = output_size[0]\n",
        "    output_width = output_size[1]\n",
        "\n",
        "    x = tf.cast(x, dtype='float32')\n",
        "    y = tf.cast(y, dtype='float32')\n",
        "    x = .5 * (x + 1.0) * width_float\n",
        "    y = .5 * (y + 1.0) * height_float\n",
        "\n",
        "    x0 = tf.cast(tf.floor(x), 'int32')\n",
        "    x1 = x0 + 1\n",
        "    y0 = tf.cast(tf.floor(y), 'int32')\n",
        "    y1 = y0 + 1\n",
        "\n",
        "    max_y = tf.cast(height - 1, dtype='int32')\n",
        "    max_x = tf.cast(width - 1, dtype='int32')\n",
        "    zero = tf.zeros([], dtype='int32')\n",
        "\n",
        "    x0 = tf.clip_by_value(x0, zero, max_x)\n",
        "    x1 = tf.clip_by_value(x1, zero, max_x)\n",
        "    y0 = tf.clip_by_value(y0, zero, max_y)\n",
        "    y1 = tf.clip_by_value(y1, zero, max_y)\n",
        "\n",
        "    flat_image_dimensions = width * height\n",
        "    pixels_batch = tf.range(batch_size) * flat_image_dimensions\n",
        "    flat_output_dimensions = output_height * output_width\n",
        "    base = _repeat(pixels_batch, flat_output_dimensions)\n",
        "    base_y0 = base + y0 * width\n",
        "    base_y1 = base + y1 * width\n",
        "    indices_a = base_y0 + x0\n",
        "    indices_b = base_y1 + x0\n",
        "    indices_c = base_y0 + x1\n",
        "    indices_d = base_y1 + x1\n",
        "\n",
        "    flat_image = tf.reshape(locnet_x, shape=(-1, num_channels))\n",
        "    flat_image = tf.cast(flat_image, dtype='float32')\n",
        "    pixel_values_a = tf.gather(flat_image, indices_a)\n",
        "    pixel_values_b = tf.gather(flat_image, indices_b)\n",
        "    pixel_values_c = tf.gather(flat_image, indices_c)\n",
        "    pixel_values_d = tf.gather(flat_image, indices_d)\n",
        "\n",
        "    x0 = tf.cast(x0, 'float32')\n",
        "    x1 = tf.cast(x1, 'float32')\n",
        "    y0 = tf.cast(y0, 'float32')\n",
        "    y1 = tf.cast(y1, 'float32')\n",
        "\n",
        "    area_a = tf.expand_dims(((x1 - x) * (y1 - y)), 1)\n",
        "    area_b = tf.expand_dims(((x1 - x) * (y - y0)), 1)\n",
        "    area_c = tf.expand_dims(((x - x0) * (y1 - y)), 1)\n",
        "    area_d = tf.expand_dims(((x - x0) * (y - y0)), 1)\n",
        "    transformed_image = tf.add_n([\n",
        "        area_a * pixel_values_a, area_b * pixel_values_b, area_c * pixel_values_c,\n",
        "        area_d * pixel_values_d\n",
        "    ])\n",
        "    # Finished interpolation\n",
        "\n",
        "    transformed_image = tf.reshape(transformed_image,\n",
        "                                   shape=(batch_size, output_height, output_width, num_channels))\n",
        "    return transformed_image"
      ]
    },
    {
      "cell_type": "markdown",
      "metadata": {
        "id": "ALRK3SR1x8JH"
      },
      "source": [
        "## Create Model"
      ]
    },
    {
      "cell_type": "code",
      "execution_count": 6,
      "metadata": {
        "id": "K3i7BmYj33qj"
      },
      "outputs": [],
      "source": [
        "def CTCDecoder():\n",
        "    def decoder(y_pred):\n",
        "        input_shape = tf.keras.backend.shape(y_pred)\n",
        "        input_length = tf.ones(shape=input_shape[0]) * tf.keras.backend.cast(\n",
        "            input_shape[1], 'float32')\n",
        "        unpadded = tf.keras.backend.ctc_decode(y_pred, input_length)[0][0]\n",
        "        unpadded_shape = tf.keras.backend.shape(unpadded)\n",
        "        padded = tf.pad(unpadded,\n",
        "                        paddings=[[0, 0], [0, input_shape[1] - unpadded_shape[1]]],\n",
        "                        constant_values=-1)\n",
        "        return padded\n",
        "\n",
        "    return tf.keras.layers.Lambda(decoder, name='decode')"
      ]
    },
    {
      "cell_type": "code",
      "execution_count": 7,
      "metadata": {
        "id": "DaRONZgExrQL"
      },
      "outputs": [],
      "source": [
        "def build_model(alphabet,\n",
        "                height,\n",
        "                width,\n",
        "                color,\n",
        "                filters,\n",
        "                rnn_units,\n",
        "                dropout,\n",
        "                rnn_steps_to_discard,\n",
        "                pool_size,\n",
        "                stn=True):\n",
        "    \"\"\"Build a Keras CRNN model for character recognition.\n",
        "    Args:\n",
        "        height: The height of cropped images\n",
        "        width: The width of cropped images\n",
        "        color: Whether the inputs should be in color (RGB)\n",
        "        filters: The number of filters to use for each of the 7 convolutional layers\n",
        "        rnn_units: The number of units for each of the RNN layers\n",
        "        dropout: The dropout to use for the final layer\n",
        "        rnn_steps_to_discard: The number of initial RNN steps to discard\n",
        "        pool_size: The size of the pooling steps\n",
        "        stn: Whether to add a Spatial Transformer layer\n",
        "    \"\"\"\n",
        "    assert len(filters) == 7, '7 CNN filters must be provided.'\n",
        "    assert len(rnn_units) == 2, '2 RNN filters must be provided.'\n",
        "    inputs = keras.layers.Input((height, width, 3 if color else 1), name='input', batch_size=1)\n",
        "    x = keras.layers.Permute((2, 1, 3))(inputs)\n",
        "    x = keras.layers.Lambda(lambda x: x[:, :, ::-1])(x)\n",
        "    x = keras.layers.Conv2D(filters[0], (3, 3), activation='relu', padding='same', name='conv_1')(x)\n",
        "    x = keras.layers.Conv2D(filters[1], (3, 3), activation='relu', padding='same', name='conv_2')(x)\n",
        "    x = keras.layers.Conv2D(filters[2], (3, 3), activation='relu', padding='same', name='conv_3')(x)\n",
        "    x = keras.layers.BatchNormalization(name='bn_3')(x)\n",
        "    x = keras.layers.MaxPooling2D(pool_size=(pool_size, pool_size), name='maxpool_3')(x)\n",
        "    x = keras.layers.Conv2D(filters[3], (3, 3), activation='relu', padding='same', name='conv_4')(x)\n",
        "    x = keras.layers.Conv2D(filters[4], (3, 3), activation='relu', padding='same', name='conv_5')(x)\n",
        "    x = keras.layers.BatchNormalization(name='bn_5')(x)\n",
        "    x = keras.layers.MaxPooling2D(pool_size=(pool_size, pool_size), name='maxpool_5')(x)\n",
        "    x = keras.layers.Conv2D(filters[5], (3, 3), activation='relu', padding='same', name='conv_6')(x)\n",
        "    x = keras.layers.Conv2D(filters[6], (3, 3), activation='relu', padding='same', name='conv_7')(x)\n",
        "    x = keras.layers.BatchNormalization(name='bn_7')(x)\n",
        "    if stn:\n",
        "        # pylint: disable=pointless-string-statement\n",
        "        \"\"\"Spatial Transformer Layer\n",
        "        Implements a spatial transformer layer as described in [1]_.\n",
        "        Borrowed from [2]_:\n",
        "        downsample_fator : float\n",
        "            A value of 1 will keep the orignal size of the image.\n",
        "            Values larger than 1 will down sample the image. Values below 1 will\n",
        "            upsample the image.\n",
        "            example image: height= 100, width = 200\n",
        "            downsample_factor = 2\n",
        "            output image will then be 50, 100\n",
        "        References\n",
        "        ----------\n",
        "        .. [1]  Spatial Transformer Networks\n",
        "                Max Jaderberg, Karen Simonyan, Andrew Zisserman, Koray Kavukcuoglu\n",
        "                Submitted on 5 Jun 2015\n",
        "        .. [2]  https://github.com/skaae/transformer_network/blob/master/transformerlayer.py\n",
        "        .. [3]  https://github.com/EderSantana/seya/blob/keras1/seya/layers/attention.py\n",
        "        \"\"\"\n",
        "        stn_input_output_shape = (width // pool_size**2, height // pool_size**2, filters[6])\n",
        "        stn_input_layer = keras.layers.Input(shape=stn_input_output_shape)\n",
        "        locnet_y = keras.layers.Conv2D(16, (5, 5), padding='same',\n",
        "                                       activation='relu')(stn_input_layer)\n",
        "        locnet_y = keras.layers.Conv2D(32, (5, 5), padding='same', activation='relu')(locnet_y)\n",
        "        locnet_y = keras.layers.Flatten()(locnet_y)\n",
        "        locnet_y = keras.layers.Dense(64, activation='relu')(locnet_y)\n",
        "        locnet_y = keras.layers.Dense(6,\n",
        "                                      weights=[\n",
        "                                          np.zeros((64, 6), dtype='float32'),\n",
        "                                          np.float32([[1, 0, 0], [0, 1, 0]]).flatten()\n",
        "                                      ])(locnet_y)\n",
        "        localization_net = keras.models.Model(inputs=stn_input_layer, outputs=locnet_y)\n",
        "        x = keras.layers.Lambda(_transform,\n",
        "                                output_shape=stn_input_output_shape)([x, localization_net(x)])\n",
        "    x = keras.layers.Reshape(target_shape=(width // pool_size**2,\n",
        "                                           (height // pool_size**2) * filters[-1]),\n",
        "                             name='reshape')(x)\n",
        "\n",
        "    x = keras.layers.Dense(rnn_units[0], activation='relu', name='fc_9')(x)\n",
        "\n",
        "    rnn_1_forward = keras.layers.LSTM(rnn_units[0],\n",
        "                                      kernel_initializer=\"he_normal\",\n",
        "                                      return_sequences=True,\n",
        "                                      name='lstm_10')(x)\n",
        "    rnn_1_back = keras.layers.LSTM(rnn_units[0],\n",
        "                                   kernel_initializer=\"he_normal\",\n",
        "                                   go_backwards=True,\n",
        "                                   return_sequences=True,\n",
        "                                   name='lstm_10_back')(x)\n",
        "    rnn_1_add = keras.layers.Add()([rnn_1_forward, rnn_1_back])\n",
        "    rnn_2_forward = keras.layers.LSTM(rnn_units[1],\n",
        "                                      kernel_initializer=\"he_normal\",\n",
        "                                      return_sequences=True,\n",
        "                                      name='lstm_11')(rnn_1_add)\n",
        "    rnn_2_back = keras.layers.LSTM(rnn_units[1],\n",
        "                                   kernel_initializer=\"he_normal\",\n",
        "                                   go_backwards=True,\n",
        "                                   return_sequences=True,\n",
        "                                   name='lstm_11_back')(rnn_1_add)\n",
        "    x = keras.layers.Concatenate()([rnn_2_forward, rnn_2_back])\n",
        "    backbone = keras.models.Model(inputs=inputs, outputs=x)\n",
        "    x = keras.layers.Dropout(dropout, name='dropout')(x)\n",
        "    x = keras.layers.Dense(len(alphabet) + 1,\n",
        "                           kernel_initializer='he_normal',\n",
        "                           activation='softmax',\n",
        "                           name='fc_12')(x)\n",
        "    x = keras.layers.Lambda(lambda x: x[:, rnn_steps_to_discard:])(x)\n",
        "    model = keras.models.Model(inputs=inputs, outputs=x)\n",
        "    prediction_model = keras.models.Model(inputs=inputs, outputs=CTCDecoder()(model.output))\n",
        "    return model, prediction_model"
      ]
    },
    {
      "cell_type": "code",
      "execution_count": 8,
      "metadata": {
        "id": "NPBjgj6gyECQ"
      },
      "outputs": [],
      "source": [
        "build_params = DEFAULT_BUILD_PARAMS\n",
        "alphabets = DEFAULT_ALPHABET\n",
        "blank_index = len(alphabets)\n",
        "\n",
        "model, prediction_model = build_model(alphabet=alphabets, **build_params)"
      ]
    },
    {
      "cell_type": "markdown",
      "metadata": {
        "id": "xLVl95alzwI8"
      },
      "source": [
        "## Download and Load Weights"
      ]
    },
    {
      "cell_type": "code",
      "execution_count": 9,
      "metadata": {
        "id": "dmBRQeL90HoQ"
      },
      "outputs": [],
      "source": [
        "def get_default_cache_dir():\n",
        "    return os.environ.get('KERAS_OCR_CACHE_DIR', os.path.expanduser(os.path.join('~',\n",
        "                                                                              '.keras-ocr')))\n",
        "def sha256sum(filename):\n",
        "    \"\"\"Compute the sha256 hash for a file.\"\"\"\n",
        "    h = hashlib.sha256()\n",
        "    b = bytearray(128 * 1024)\n",
        "    mv = memoryview(b)\n",
        "    with open(filename, 'rb', buffering=0) as f:\n",
        "        for n in iter(lambda: f.readinto(mv), 0):\n",
        "            h.update(mv[:n])\n",
        "    return h.hexdigest()\n",
        "\n",
        "def download_and_verify(url, sha256=None, cache_dir=None, verbose=True, filename=None):\n",
        "    \"\"\"Download a file to a cache directory and verify it with a sha256\n",
        "    hash.\n",
        "    Args:\n",
        "        url: The file to download\n",
        "        sha256: The sha256 hash to check. If the file already exists and the hash\n",
        "            matches, we don't download it again.\n",
        "        cache_dir: The directory in which to cache the file. The default is\n",
        "            `~/.keras-ocr`.\n",
        "        verbose: Whether to log progress\n",
        "        filename: The filename to use for the file. By default, the filename is\n",
        "            derived from the URL.\n",
        "    \"\"\"\n",
        "    if cache_dir is None:\n",
        "        cache_dir = get_default_cache_dir()\n",
        "    if filename is None:\n",
        "        filename = os.path.basename(urllib.parse.urlparse(url).path)\n",
        "    filepath = os.path.join(cache_dir, filename)\n",
        "    os.makedirs(os.path.split(filepath)[0], exist_ok=True)\n",
        "    if verbose:\n",
        "        print('Looking for ' + filepath)\n",
        "    if not os.path.isfile(filepath) or (sha256 and sha256sum(filepath) != sha256):\n",
        "        if verbose:\n",
        "            print('Downloading ' + filepath)\n",
        "        urllib.request.urlretrieve(url, filepath)\n",
        "    assert sha256 is None or sha256 == sha256sum(filepath), 'Error occurred verifying sha256.'\n",
        "    return filepath"
      ]
    },
    {
      "cell_type": "code",
      "execution_count": 10,
      "metadata": {
        "colab": {
          "base_uri": "https://localhost:8080/"
        },
        "id": "B5lNpYwczLuO",
        "outputId": "7edc1ebd-b516-4746-8ab0-16d6420e0d6a"
      },
      "outputs": [
        {
          "name": "stdout",
          "output_type": "stream",
          "text": [
            "Looking for C:\\Users\\GroxEmpire\\.keras-ocr\\crnn_kurapan.h5\n"
          ]
        }
      ],
      "source": [
        "weights_dict = PRETRAINED_WEIGHTS['kurapan']\n",
        "\n",
        "model.load_weights(download_and_verify(url=weights_dict['weights']['top']['url'],\n",
        "                                       filename=weights_dict['weights']['top']['filename'],\n",
        "                                       sha256=weights_dict['weights']['top']['sha256']))"
      ]
    },
    {
      "cell_type": "markdown",
      "metadata": {
        "id": "czQXrbwF1rWO"
      },
      "source": [
        "## Model Architecture"
      ]
    },
    {
      "cell_type": "code",
      "execution_count": 10,
      "metadata": {
        "id": "CUyx8EAV0IjX"
      },
      "outputs": [
        {
          "name": "stdout",
          "output_type": "stream",
          "text": [
            "Model: \"model_2\"\n",
            "__________________________________________________________________________________________________\n",
            " Layer (type)                   Output Shape         Param #     Connected to                     \n",
            "==================================================================================================\n",
            " input (InputLayer)             [(1, 31, 200, 1)]    0           []                               \n",
            "                                                                                                  \n",
            " permute (Permute)              (1, 200, 31, 1)      0           ['input[0][0]']                  \n",
            "                                                                                                  \n",
            " lambda (Lambda)                (1, 200, 31, 1)      0           ['permute[0][0]']                \n",
            "                                                                                                  \n",
            " conv_1 (Conv2D)                (1, 200, 31, 64)     640         ['lambda[0][0]']                 \n",
            "                                                                                                  \n",
            " conv_2 (Conv2D)                (1, 200, 31, 128)    73856       ['conv_1[0][0]']                 \n",
            "                                                                                                  \n",
            " conv_3 (Conv2D)                (1, 200, 31, 256)    295168      ['conv_2[0][0]']                 \n",
            "                                                                                                  \n",
            " bn_3 (BatchNormalization)      (1, 200, 31, 256)    1024        ['conv_3[0][0]']                 \n",
            "                                                                                                  \n",
            " maxpool_3 (MaxPooling2D)       (1, 100, 15, 256)    0           ['bn_3[0][0]']                   \n",
            "                                                                                                  \n",
            " conv_4 (Conv2D)                (1, 100, 15, 256)    590080      ['maxpool_3[0][0]']              \n",
            "                                                                                                  \n",
            " conv_5 (Conv2D)                (1, 100, 15, 512)    1180160     ['conv_4[0][0]']                 \n",
            "                                                                                                  \n",
            " bn_5 (BatchNormalization)      (1, 100, 15, 512)    2048        ['conv_5[0][0]']                 \n",
            "                                                                                                  \n",
            " maxpool_5 (MaxPooling2D)       (1, 50, 7, 512)      0           ['bn_5[0][0]']                   \n",
            "                                                                                                  \n",
            " conv_6 (Conv2D)                (1, 50, 7, 512)      2359808     ['maxpool_5[0][0]']              \n",
            "                                                                                                  \n",
            " conv_7 (Conv2D)                (1, 50, 7, 512)      2359808     ['conv_6[0][0]']                 \n",
            "                                                                                                  \n",
            " bn_7 (BatchNormalization)      (1, 50, 7, 512)      2048        ['conv_7[0][0]']                 \n",
            "                                                                                                  \n",
            " model (Functional)             (None, 6)            934902      ['bn_7[0][0]']                   \n",
            "                                                                                                  \n",
            " lambda_1 (Lambda)              (1, 50, 7, 512)      0           ['bn_7[0][0]',                   \n",
            "                                                                  'model[0][0]']                  \n",
            "                                                                                                  \n",
            " reshape (Reshape)              (1, 50, 3584)        0           ['lambda_1[0][0]']               \n",
            "                                                                                                  \n",
            " fc_9 (Dense)                   (1, 50, 128)         458880      ['reshape[0][0]']                \n",
            "                                                                                                  \n",
            " lstm_10 (LSTM)                 (1, 50, 128)         131584      ['fc_9[0][0]']                   \n",
            "                                                                                                  \n",
            " lstm_10_back (LSTM)            (1, 50, 128)         131584      ['fc_9[0][0]']                   \n",
            "                                                                                                  \n",
            " add (Add)                      (1, 50, 128)         0           ['lstm_10[0][0]',                \n",
            "                                                                  'lstm_10_back[0][0]']           \n",
            "                                                                                                  \n",
            " lstm_11 (LSTM)                 (1, 50, 128)         131584      ['add[0][0]']                    \n",
            "                                                                                                  \n",
            " lstm_11_back (LSTM)            (1, 50, 128)         131584      ['add[0][0]']                    \n",
            "                                                                                                  \n",
            " concatenate (Concatenate)      (1, 50, 256)         0           ['lstm_11[0][0]',                \n",
            "                                                                  'lstm_11_back[0][0]']           \n",
            "                                                                                                  \n",
            " dropout (Dropout)              (1, 50, 256)         0           ['concatenate[0][0]']            \n",
            "                                                                                                  \n",
            " fc_12 (Dense)                  (1, 50, 37)          9509        ['dropout[0][0]']                \n",
            "                                                                                                  \n",
            " lambda_2 (Lambda)              (1, 48, 37)          0           ['fc_12[0][0]']                  \n",
            "                                                                                                  \n",
            "==================================================================================================\n",
            "Total params: 8,794,267\n",
            "Trainable params: 8,791,707\n",
            "Non-trainable params: 2,560\n",
            "__________________________________________________________________________________________________\n"
          ]
        }
      ],
      "source": [
        "model.summary()"
      ]
    },
    {
      "cell_type": "markdown",
      "metadata": {},
      "source": [
        "## Preparing Dataset"
      ]
    },
    {
      "cell_type": "code",
      "execution_count": 12,
      "metadata": {},
      "outputs": [],
      "source": [
        "# augmented_image_gen = ImageDataGenerator(\n",
        "#         rescale = 1/255.0,\n",
        "#     rotation_range=2,\n",
        "#     width_shift_range=.1,\n",
        "#     height_shift_range=.1,\n",
        "#     zoom_range=0.1,\n",
        "#     shear_range=2,\n",
        "#     brightness_range=[0.9, 1.1],\n",
        "#     validation_split=0.2,\n",
        "   \n",
        "#    )\n",
        "\n",
        "# normal_image_gen = ImageDataGenerator(\n",
        "#     rescale = 1/255.0,\n",
        "#     validation_split=0.2,\n",
        "  \n",
        "#    )\n",
        "\n",
        "def LoadData(FP = './Dataset/Generated text'):\n",
        "    '''\n",
        "    Loads the OCR dataset. A is matrix of images (NIMG, Height, Width, Channel).\n",
        "    Y is matrix of characters (NIMG, MAX_CHAR)\n",
        "    FP:     Path to OCR data folder\n",
        "    return: Data Matrix, Target Matrix, Target Strings\n",
        "    '''\n",
        "    TFP = os.path.join(FP, 'Train.csv')\n",
        "    A, Y, T, FN = [], [], [], []\n",
        "    with open(TFP) as F:\n",
        "        for Li in F:\n",
        "            FNi, Yi = Li.strip().split(',')                     #filename,string\n",
        "            T.append(Yi)\n",
        "            A.append(cv2.imread(os.path.join(FP, 'Out', FNi)))\n",
        "            Y.append(list(Yi) + [' '] * (64 - len(Yi)))   #Pad strings with spaces\n",
        "            FN.append(FNi)\n",
        "    return np.stack(A), np.stack(Y), np.stack(T), np.stack(FN)"
      ]
    },
    {
      "cell_type": "code",
      "execution_count": 18,
      "metadata": {},
      "outputs": [
        {
          "data": {
            "text/plain": [
              "array(['0.png', '1.png', '2.png', ..., '8190.png', '8191.png', '8192.png'],\n",
              "      dtype='<U8')"
            ]
          },
          "execution_count": 18,
          "metadata": {},
          "output_type": "execute_result"
        }
      ],
      "source": [
        "# batch_size = 32\n",
        "# train_data_gen = augmented_image_gen.flow_from_directory(batch_size=batch_size,\n",
        "#                                                      directory=\"./Dataset/Alphanumeric/data/training_data\",\n",
        "#                                                      color_mode=\"grayscale\",\n",
        "#                                                      shuffle=True,\n",
        "#                                                      target_size=(28, 28),\n",
        "#                                                      class_mode=\"categorical\",\n",
        "#                                                      seed=65657867,\n",
        "#                                                      subset='training')\n",
        "# val_data_gen = normal_image_gen.flow_from_directory(batch_size=batch_size,\n",
        "#                                                      directory=\"./Dataset/Alphanumeric/data/testing_data\",\n",
        "#                                                      color_mode=\"grayscale\",\n",
        "#                                                      shuffle=True,\n",
        "#                                                      target_size=(28, 28),\n",
        "#                                                      class_mode=\"categorical\",\n",
        "#                                                      seed=65657867,\n",
        "#                                                      subset='validation')\n",
        "A, Y, T, FN = LoadData()"
      ]
    },
    {
      "cell_type": "markdown",
      "metadata": {},
      "source": [
        "## Training Model"
      ]
    },
    {
      "cell_type": "code",
      "execution_count": 14,
      "metadata": {},
      "outputs": [
        {
          "ename": "ValueError",
          "evalue": "Failed to convert a NumPy array to a Tensor (Unsupported object type NoneType).",
          "output_type": "error",
          "traceback": [
            "\u001b[1;31m---------------------------------------------------------------------------\u001b[0m",
            "\u001b[1;31mValueError\u001b[0m                                Traceback (most recent call last)",
            "\u001b[1;32md:\\Grox's Vault\\Laboratory\\Repos\\Foodergy-OCR\\OCR_TFLITE.ipynb Cell 21'\u001b[0m in \u001b[0;36m<cell line: 11>\u001b[1;34m()\u001b[0m\n\u001b[0;32m      <a href='vscode-notebook-cell:/d%3A/Grox%27s%20Vault/Laboratory/Repos/Foodergy-OCR/OCR_TFLITE.ipynb#ch0000020?line=0'>1</a>\u001b[0m model\u001b[39m.\u001b[39mcompile(optimizer\u001b[39m=\u001b[39mkeras\u001b[39m.\u001b[39moptimizers\u001b[39m.\u001b[39mAdam(),\n\u001b[0;32m      <a href='vscode-notebook-cell:/d%3A/Grox%27s%20Vault/Laboratory/Repos/Foodergy-OCR/OCR_TFLITE.ipynb#ch0000020?line=1'>2</a>\u001b[0m               loss\u001b[39m=\u001b[39mtf\u001b[39m.\u001b[39mkeras\u001b[39m.\u001b[39mlosses\u001b[39m.\u001b[39mSparseCategoricalCrossentropy(),\n\u001b[0;32m      <a href='vscode-notebook-cell:/d%3A/Grox%27s%20Vault/Laboratory/Repos/Foodergy-OCR/OCR_TFLITE.ipynb#ch0000020?line=2'>3</a>\u001b[0m               metrics\u001b[39m=\u001b[39m[\u001b[39m'\u001b[39m\u001b[39maccuracy\u001b[39m\u001b[39m'\u001b[39m])\n\u001b[0;32m      <a href='vscode-notebook-cell:/d%3A/Grox%27s%20Vault/Laboratory/Repos/Foodergy-OCR/OCR_TFLITE.ipynb#ch0000020?line=4'>5</a>\u001b[0m \u001b[39m# history = model.fit(\u001b[39;00m\n\u001b[0;32m      <a href='vscode-notebook-cell:/d%3A/Grox%27s%20Vault/Laboratory/Repos/Foodergy-OCR/OCR_TFLITE.ipynb#ch0000020?line=5'>6</a>\u001b[0m \u001b[39m#     train_data_gen,\u001b[39;00m\n\u001b[0;32m      <a href='vscode-notebook-cell:/d%3A/Grox%27s%20Vault/Laboratory/Repos/Foodergy-OCR/OCR_TFLITE.ipynb#ch0000020?line=6'>7</a>\u001b[0m \u001b[39m#     steps_per_epoch=train_data_gen.samples // batch_size,\u001b[39;00m\n\u001b[0;32m      <a href='vscode-notebook-cell:/d%3A/Grox%27s%20Vault/Laboratory/Repos/Foodergy-OCR/OCR_TFLITE.ipynb#ch0000020?line=7'>8</a>\u001b[0m \u001b[39m#     epochs=32,\u001b[39;00m\n\u001b[0;32m      <a href='vscode-notebook-cell:/d%3A/Grox%27s%20Vault/Laboratory/Repos/Foodergy-OCR/OCR_TFLITE.ipynb#ch0000020?line=8'>9</a>\u001b[0m \u001b[39m#     validation_data=val_data_gen,\u001b[39;00m\n\u001b[0;32m     <a href='vscode-notebook-cell:/d%3A/Grox%27s%20Vault/Laboratory/Repos/Foodergy-OCR/OCR_TFLITE.ipynb#ch0000020?line=9'>10</a>\u001b[0m \u001b[39m#     validation_steps=val_data_gen.samples // batch_size)\u001b[39;00m\n\u001b[1;32m---> <a href='vscode-notebook-cell:/d%3A/Grox%27s%20Vault/Laboratory/Repos/Foodergy-OCR/OCR_TFLITE.ipynb#ch0000020?line=10'>11</a>\u001b[0m history \u001b[39m=\u001b[39m model\u001b[39m.\u001b[39;49mfit(A, Y, \u001b[39m32\u001b[39;49m)\n",
            "File \u001b[1;32mc:\\Users\\GroxEmpire\\AppData\\Local\\Programs\\Python\\Python39\\lib\\site-packages\\keras\\utils\\traceback_utils.py:67\u001b[0m, in \u001b[0;36mfilter_traceback.<locals>.error_handler\u001b[1;34m(*args, **kwargs)\u001b[0m\n\u001b[0;32m     <a href='file:///c%3A/Users/GroxEmpire/AppData/Local/Programs/Python/Python39/lib/site-packages/keras/utils/traceback_utils.py?line=64'>65</a>\u001b[0m \u001b[39mexcept\u001b[39;00m \u001b[39mException\u001b[39;00m \u001b[39mas\u001b[39;00m e:  \u001b[39m# pylint: disable=broad-except\u001b[39;00m\n\u001b[0;32m     <a href='file:///c%3A/Users/GroxEmpire/AppData/Local/Programs/Python/Python39/lib/site-packages/keras/utils/traceback_utils.py?line=65'>66</a>\u001b[0m   filtered_tb \u001b[39m=\u001b[39m _process_traceback_frames(e\u001b[39m.\u001b[39m__traceback__)\n\u001b[1;32m---> <a href='file:///c%3A/Users/GroxEmpire/AppData/Local/Programs/Python/Python39/lib/site-packages/keras/utils/traceback_utils.py?line=66'>67</a>\u001b[0m   \u001b[39mraise\u001b[39;00m e\u001b[39m.\u001b[39mwith_traceback(filtered_tb) \u001b[39mfrom\u001b[39;00m \u001b[39mNone\u001b[39m\n\u001b[0;32m     <a href='file:///c%3A/Users/GroxEmpire/AppData/Local/Programs/Python/Python39/lib/site-packages/keras/utils/traceback_utils.py?line=67'>68</a>\u001b[0m \u001b[39mfinally\u001b[39;00m:\n\u001b[0;32m     <a href='file:///c%3A/Users/GroxEmpire/AppData/Local/Programs/Python/Python39/lib/site-packages/keras/utils/traceback_utils.py?line=68'>69</a>\u001b[0m   \u001b[39mdel\u001b[39;00m filtered_tb\n",
            "File \u001b[1;32mc:\\Users\\GroxEmpire\\AppData\\Local\\Programs\\Python\\Python39\\lib\\site-packages\\tensorflow\\python\\framework\\constant_op.py:102\u001b[0m, in \u001b[0;36mconvert_to_eager_tensor\u001b[1;34m(value, ctx, dtype)\u001b[0m\n\u001b[0;32m    <a href='file:///c%3A/Users/GroxEmpire/AppData/Local/Programs/Python/Python39/lib/site-packages/tensorflow/python/framework/constant_op.py?line=99'>100</a>\u001b[0m     dtype \u001b[39m=\u001b[39m dtypes\u001b[39m.\u001b[39mas_dtype(dtype)\u001b[39m.\u001b[39mas_datatype_enum\n\u001b[0;32m    <a href='file:///c%3A/Users/GroxEmpire/AppData/Local/Programs/Python/Python39/lib/site-packages/tensorflow/python/framework/constant_op.py?line=100'>101</a>\u001b[0m ctx\u001b[39m.\u001b[39mensure_initialized()\n\u001b[1;32m--> <a href='file:///c%3A/Users/GroxEmpire/AppData/Local/Programs/Python/Python39/lib/site-packages/tensorflow/python/framework/constant_op.py?line=101'>102</a>\u001b[0m \u001b[39mreturn\u001b[39;00m ops\u001b[39m.\u001b[39;49mEagerTensor(value, ctx\u001b[39m.\u001b[39;49mdevice_name, dtype)\n",
            "\u001b[1;31mValueError\u001b[0m: Failed to convert a NumPy array to a Tensor (Unsupported object type NoneType)."
          ]
        }
      ],
      "source": [
        "model.compile(optimizer=keras.optimizers.Adam(),\n",
        "              loss=tf.keras.losses.SparseCategoricalCrossentropy(),\n",
        "              metrics=['accuracy'])\n",
        "\n",
        "# history = model.fit(\n",
        "#     train_data_gen,\n",
        "#     steps_per_epoch=train_data_gen.samples // batch_size,\n",
        "#     epochs=32,\n",
        "#     validation_data=val_data_gen,\n",
        "#     validation_steps=val_data_gen.samples // batch_size)\n",
        "history = model.fit(A, Y, 32)"
      ]
    },
    {
      "cell_type": "markdown",
      "metadata": {
        "id": "0Dg50iNc106w"
      },
      "source": [
        "## Convert to TFLite"
      ]
    },
    {
      "cell_type": "code",
      "execution_count": 14,
      "metadata": {
        "id": "-vYzKpI1fB27"
      },
      "outputs": [
        {
          "ename": "SyntaxError",
          "evalue": "invalid syntax (1196872295.py, line 4)",
          "output_type": "error",
          "traceback": [
            "\u001b[1;36m  Input \u001b[1;32mIn [14]\u001b[1;36m\u001b[0m\n\u001b[1;33m    wget https://github.com/tulasiram58827/ocr_tflite/raw/main/data/represent_data.zip\u001b[0m\n\u001b[1;37m         ^\u001b[0m\n\u001b[1;31mSyntaxError\u001b[0m\u001b[1;31m:\u001b[0m invalid syntax\n"
          ]
        }
      ],
      "source": [
        "# If running in Colab\n",
        "# Download and unzipping representative dataset\n",
        "%%bash\n",
        "wget https://github.com/tulasiram58827/ocr_tflite/raw/main/data/represent_data.zip\n",
        "unzip represent_data.zip\n",
        "\n",
        "dataset_path = '/content/represent_data/'\n",
        "def representative_data_gen():\n",
        "    for file in os.listdir(dataset_path):\n",
        "        image_path = dataset_path + file\n",
        "        input_data = cv2.imread(image_path, cv2.IMREAD_GRAYSCALE)\n",
        "        input_data = cv2.resize(input_data, (200, 31))\n",
        "        input_data = input_data[np.newaxis]\n",
        "        input_data = np.expand_dims(input_data, 3)\n",
        "        input_data = input_data.astype('float32')/255\n",
        "        yield [input_data]"
      ]
    },
    {
      "cell_type": "code",
      "execution_count": 15,
      "metadata": {},
      "outputs": [],
      "source": [
        "# If running locally\n",
        "dataset_path = '/Dataset/Ingridient/'\n",
        "def representative_data_gen():\n",
        "    for file in os.listdir(dataset_path):\n",
        "        image_path = dataset_path + file\n",
        "        input_data = cv2.imread(image_path, cv2.IMREAD_GRAYSCALE)\n",
        "        input_data = cv2.resize(input_data, (200, 31))\n",
        "        input_data = input_data[np.newaxis]\n",
        "        input_data = np.expand_dims(input_data, 3)\n",
        "        input_data = input_data.astype('float32')/255\n",
        "        yield [input_data]"
      ]
    },
    {
      "cell_type": "code",
      "execution_count": 16,
      "metadata": {
        "id": "VzyIgV-NfEeb"
      },
      "outputs": [],
      "source": [
        "def convert_tflite(quantization):\n",
        "    converter = tf.lite.TFLiteConverter.from_keras_model(prediction_model)\n",
        "    converter.optimizations = [tf.lite.Optimize.DEFAULT]\n",
        "    converter.target_spec.supported_ops = [\n",
        "  tf.lite.OpsSet.TFLITE_BUILTINS, # enable TensorFlow Lite ops.\n",
        "  tf.lite.OpsSet.SELECT_TF_OPS # enable TensorFlow ops.\n",
        "]\n",
        "    if quantization == 'float16':\n",
        "        converter.target_spec.supported_types = [tf.float16]\n",
        "    elif quantization == 'int8' or quantization == 'full_int8':\n",
        "        converter.representative_dataset = representative_data_gen\n",
        "    if quantization == 'full_int8':\n",
        "        converter.target_spec.supported_ops = [tf.lite.OpsSet.TFLITE_BUILTINS_INT8]\n",
        "        converter.inference_input_type = tf.int8  # or tf.uint8\n",
        "        converter.inference_output_type = tf.int8  # or tf.uint8\n",
        "    tf_lite_model = converter.convert()\n",
        "    open(f'ocr_{quantization}.tflite', 'wb').write(tf_lite_model)"
      ]
    },
    {
      "cell_type": "markdown",
      "metadata": {
        "id": "u_cHVmRAfMda"
      },
      "source": [
        "**Note** : Support for CTC Decoder is not available in TFLite yet. So while converting we removed CTCDecoder in model part. We need to run Decoder from the output of the model. \n",
        "\n",
        "Refer to this [issue](https://github.com/tensorflow/tensorflow/issues/33494) regarding CTC decoder support in TFLite. \n",
        "\n",
        "**Update** : CTC Decoder is supported in TFLite now by enabling Built-in-Ops in Tensorflow 2.4. Thanks to TensorFlow team for the support."
      ]
    },
    {
      "cell_type": "code",
      "execution_count": 17,
      "metadata": {
        "colab": {
          "base_uri": "https://localhost:8080/"
        },
        "id": "MN216EKBfLt7",
        "outputId": "7f8d255b-d02e-4c7e-8baf-343796c1692a"
      },
      "outputs": [
        {
          "name": "stderr",
          "output_type": "stream",
          "text": [
            "WARNING:absl:Found untraced functions such as lstm_cell_layer_call_fn, lstm_cell_layer_call_and_return_conditional_losses, lstm_cell_1_layer_call_fn, lstm_cell_1_layer_call_and_return_conditional_losses, lstm_cell_2_layer_call_fn while saving (showing 5 of 8). These functions will not be directly callable after loading.\n"
          ]
        },
        {
          "name": "stdout",
          "output_type": "stream",
          "text": [
            "INFO:tensorflow:Assets written to: C:\\Users\\GROXEM~1\\AppData\\Local\\Temp\\tmphclccg0i\\assets\n"
          ]
        },
        {
          "name": "stderr",
          "output_type": "stream",
          "text": [
            "INFO:tensorflow:Assets written to: C:\\Users\\GROXEM~1\\AppData\\Local\\Temp\\tmphclccg0i\\assets\n",
            "WARNING:absl:Buffer deduplication procedure will be skipped when flatbuffer library is not properly loaded\n"
          ]
        }
      ],
      "source": [
        "quantization = 'dr' #@param [\"dr\", \"float16\"]\n",
        "convert_tflite(quantization)"
      ]
    },
    {
      "cell_type": "code",
      "execution_count": 18,
      "metadata": {
        "colab": {
          "base_uri": "https://localhost:8080/"
        },
        "id": "b2EWZDvpfQrY",
        "outputId": "ca234cf2-98ed-4111-85c3-7fa776b3dd55"
      },
      "outputs": [
        {
          "name": "stderr",
          "output_type": "stream",
          "text": [
            "WARNING:absl:Found untraced functions such as lstm_cell_layer_call_fn, lstm_cell_layer_call_and_return_conditional_losses, lstm_cell_1_layer_call_fn, lstm_cell_1_layer_call_and_return_conditional_losses, lstm_cell_2_layer_call_fn while saving (showing 5 of 8). These functions will not be directly callable after loading.\n"
          ]
        },
        {
          "name": "stdout",
          "output_type": "stream",
          "text": [
            "INFO:tensorflow:Assets written to: C:\\Users\\GROXEM~1\\AppData\\Local\\Temp\\tmphagtjhkl\\assets\n"
          ]
        },
        {
          "name": "stderr",
          "output_type": "stream",
          "text": [
            "INFO:tensorflow:Assets written to: C:\\Users\\GROXEM~1\\AppData\\Local\\Temp\\tmphagtjhkl\\assets\n",
            "WARNING:absl:Buffer deduplication procedure will be skipped when flatbuffer library is not properly loaded\n"
          ]
        }
      ],
      "source": [
        "quantization = 'float16' #@param [\"dr\", \"float16\"]\n",
        "convert_tflite(quantization)"
      ]
    },
    {
      "cell_type": "markdown",
      "metadata": {},
      "source": [
        "## SavedModel format"
      ]
    },
    {
      "cell_type": "code",
      "execution_count": 11,
      "metadata": {},
      "outputs": [
        {
          "name": "stdout",
          "output_type": "stream",
          "text": [
            "WARNING:tensorflow:Compiled the loaded model, but the compiled metrics have yet to be built. `model.compile_metrics` will be empty until you train or evaluate the model.\n"
          ]
        },
        {
          "name": "stderr",
          "output_type": "stream",
          "text": [
            "A subdirectory or file -p already exists.\n",
            "Error occurred while processing: -p.\n",
            "A subdirectory or file saved_model already exists.\n",
            "Error occurred while processing: saved_model.\n",
            "WARNING:absl:Found untraced functions such as lstm_cell_layer_call_fn, lstm_cell_layer_call_and_return_conditional_losses, lstm_cell_1_layer_call_fn, lstm_cell_1_layer_call_and_return_conditional_losses, lstm_cell_2_layer_call_fn while saving (showing 5 of 8). These functions will not be directly callable after loading.\n"
          ]
        },
        {
          "name": "stdout",
          "output_type": "stream",
          "text": [
            "INFO:tensorflow:Assets written to: saved_model/OCR\\assets\n"
          ]
        },
        {
          "name": "stderr",
          "output_type": "stream",
          "text": [
            "INFO:tensorflow:Assets written to: saved_model/OCR\\assets\n",
            "WARNING:absl:<keras.layers.recurrent.LSTMCell object at 0x000001F2F4001040> has the same name 'LSTMCell' as a built-in Keras object. Consider renaming <class 'keras.layers.recurrent.LSTMCell'> to avoid naming conflicts when loading with `tf.keras.models.load_model`. If renaming is not possible, pass the object in the `custom_objects` parameter of the load function.\n",
            "WARNING:absl:<keras.layers.recurrent.LSTMCell object at 0x000001F2F401F460> has the same name 'LSTMCell' as a built-in Keras object. Consider renaming <class 'keras.layers.recurrent.LSTMCell'> to avoid naming conflicts when loading with `tf.keras.models.load_model`. If renaming is not possible, pass the object in the `custom_objects` parameter of the load function.\n",
            "WARNING:absl:<keras.layers.recurrent.LSTMCell object at 0x000001F2F1B2CDF0> has the same name 'LSTMCell' as a built-in Keras object. Consider renaming <class 'keras.layers.recurrent.LSTMCell'> to avoid naming conflicts when loading with `tf.keras.models.load_model`. If renaming is not possible, pass the object in the `custom_objects` parameter of the load function.\n",
            "WARNING:absl:<keras.layers.recurrent.LSTMCell object at 0x000001F2F40B37C0> has the same name 'LSTMCell' as a built-in Keras object. Consider renaming <class 'keras.layers.recurrent.LSTMCell'> to avoid naming conflicts when loading with `tf.keras.models.load_model`. If renaming is not possible, pass the object in the `custom_objects` parameter of the load function.\n"
          ]
        }
      ],
      "source": [
        "!mkdir -p saved_model\n",
        "model.save('saved_model/OCR')"
      ]
    },
    {
      "cell_type": "markdown",
      "metadata": {
        "id": "CVhhiWe1fzBz"
      },
      "source": [
        "## TFLite Inference"
      ]
    },
    {
      "cell_type": "code",
      "execution_count": 19,
      "metadata": {
        "id": "rkGs7BDWf6dm"
      },
      "outputs": [],
      "source": [
        "def run_tflite_model(image_path, quantization):\n",
        "    input_data = cv2.imread(image_path, cv2.IMREAD_GRAYSCALE)\n",
        "    input_data = cv2.resize(input_data, (200, 31))\n",
        "    input_data = input_data[np.newaxis]\n",
        "    input_data = np.expand_dims(input_data, 3)\n",
        "    input_data = input_data.astype('float32')/255\n",
        "    path = f'ocr_{quantization}.tflite'\n",
        "    interpreter = tf.lite.Interpreter(model_path=path)\n",
        "    interpreter.allocate_tensors()\n",
        "\n",
        "    # Get input and output tensors.\n",
        "    input_details = interpreter.get_input_details()\n",
        "    output_details = interpreter.get_output_details()\n",
        "\n",
        "    input_shape = input_details[0]['shape']\n",
        "    interpreter.set_tensor(input_details[0]['index'], input_data)\n",
        "\n",
        "    interpreter.invoke()\n",
        "\n",
        "    output = interpreter.get_tensor(output_details[0]['index'])\n",
        "    return output"
      ]
    },
    {
      "cell_type": "code",
      "execution_count": 20,
      "metadata": {
        "id": "DGmtdkD7gAVH"
      },
      "outputs": [
        {
          "ename": "ModuleNotFoundError",
          "evalue": "No module named 'google.colab'",
          "output_type": "error",
          "traceback": [
            "\u001b[1;31m---------------------------------------------------------------------------\u001b[0m",
            "\u001b[1;31mModuleNotFoundError\u001b[0m                       Traceback (most recent call last)",
            "\u001b[1;32md:\\Grox's Vault\\Laboratory\\Repos\\Foodergy-OCR\\OCR_TFLITE.ipynb Cell 31'\u001b[0m in \u001b[0;36m<cell line: 2>\u001b[1;34m()\u001b[0m\n\u001b[0;32m      <a href='vscode-notebook-cell:/d%3A/Grox%27s%20Vault/Laboratory/Repos/Foodergy-OCR/OCR_TFLITE.ipynb#ch0000034?line=0'>1</a>\u001b[0m \u001b[39m# If running in colab\u001b[39;00m\n\u001b[1;32m----> <a href='vscode-notebook-cell:/d%3A/Grox%27s%20Vault/Laboratory/Repos/Foodergy-OCR/OCR_TFLITE.ipynb#ch0000034?line=1'>2</a>\u001b[0m \u001b[39mfrom\u001b[39;00m \u001b[39mgoogle\u001b[39;00m\u001b[39m.\u001b[39;00m\u001b[39mcolab\u001b[39;00m\u001b[39m.\u001b[39;00m\u001b[39mpatches\u001b[39;00m \u001b[39mimport\u001b[39;00m cv2_imshow\n\u001b[0;32m      <a href='vscode-notebook-cell:/d%3A/Grox%27s%20Vault/Laboratory/Repos/Foodergy-OCR/OCR_TFLITE.ipynb#ch0000034?line=2'>3</a>\u001b[0m image_path \u001b[39m=\u001b[39m \u001b[39m'\u001b[39m\u001b[39m/content/demo_1.png\u001b[39m\u001b[39m'\u001b[39m\n",
            "\u001b[1;31mModuleNotFoundError\u001b[0m: No module named 'google.colab'"
          ]
        }
      ],
      "source": [
        "# If running in colab\n",
        "from google.colab.patches import cv2_imshow\n",
        "image_path = '/content/demo_1.png'"
      ]
    },
    {
      "cell_type": "code",
      "execution_count": 40,
      "metadata": {},
      "outputs": [],
      "source": [
        "# If running locally\n",
        "from IPython.display import Image\n",
        "# image_path = 'Dataset\\Ingredients\\in3.jpg'\n",
        "image_path = 'Dataset\\Alphanumeric\\data2\\testing_data\\R\\41283.png'"
      ]
    },
    {
      "cell_type": "code",
      "execution_count": 41,
      "metadata": {
        "colab": {
          "base_uri": "https://localhost:8080/",
          "height": 106
        },
        "id": "v6K9tv0u1umk",
        "outputId": "6654e164-1b2b-4203-ff1f-a58aad5422b5"
      },
      "outputs": [
        {
          "ename": "error",
          "evalue": "OpenCV(4.5.5) D:\\a\\opencv-python\\opencv-python\\opencv\\modules\\imgproc\\src\\resize.cpp:4052: error: (-215:Assertion failed) !ssize.empty() in function 'cv::resize'\n",
          "output_type": "error",
          "traceback": [
            "\u001b[1;31m---------------------------------------------------------------------------\u001b[0m",
            "\u001b[1;31merror\u001b[0m                                     Traceback (most recent call last)",
            "\u001b[1;32md:\\Grox's Vault\\Laboratory\\Repos\\Foodergy-OCR\\OCR_TFLITE.ipynb Cell 33'\u001b[0m in \u001b[0;36m<cell line: 2>\u001b[1;34m()\u001b[0m\n\u001b[0;32m      <a href='vscode-notebook-cell:/d%3A/Grox%27s%20Vault/Laboratory/Repos/Foodergy-OCR/OCR_TFLITE.ipynb#ch0000035?line=0'>1</a>\u001b[0m \u001b[39m# Local: running Dynamic Range Quantization\u001b[39;00m\n\u001b[1;32m----> <a href='vscode-notebook-cell:/d%3A/Grox%27s%20Vault/Laboratory/Repos/Foodergy-OCR/OCR_TFLITE.ipynb#ch0000035?line=1'>2</a>\u001b[0m tflite_output \u001b[39m=\u001b[39m run_tflite_model(image_path, \u001b[39m'\u001b[39;49m\u001b[39mdr\u001b[39;49m\u001b[39m'\u001b[39;49m)\n\u001b[0;32m      <a href='vscode-notebook-cell:/d%3A/Grox%27s%20Vault/Laboratory/Repos/Foodergy-OCR/OCR_TFLITE.ipynb#ch0000035?line=2'>3</a>\u001b[0m final_output \u001b[39m=\u001b[39m \u001b[39m\"\u001b[39m\u001b[39m\"\u001b[39m\u001b[39m.\u001b[39mjoin(alphabets[index] \u001b[39mfor\u001b[39;00m index \u001b[39min\u001b[39;00m tflite_output[\u001b[39m0\u001b[39m] \u001b[39mif\u001b[39;00m index \u001b[39mnot\u001b[39;00m \u001b[39min\u001b[39;00m [blank_index, \u001b[39m-\u001b[39m\u001b[39m1\u001b[39m])\n\u001b[0;32m      <a href='vscode-notebook-cell:/d%3A/Grox%27s%20Vault/Laboratory/Repos/Foodergy-OCR/OCR_TFLITE.ipynb#ch0000035?line=3'>4</a>\u001b[0m \u001b[39mprint\u001b[39m(final_output)\n",
            "\u001b[1;32md:\\Grox's Vault\\Laboratory\\Repos\\Foodergy-OCR\\OCR_TFLITE.ipynb Cell 30'\u001b[0m in \u001b[0;36mrun_tflite_model\u001b[1;34m(image_path, quantization)\u001b[0m\n\u001b[0;32m      <a href='vscode-notebook-cell:/d%3A/Grox%27s%20Vault/Laboratory/Repos/Foodergy-OCR/OCR_TFLITE.ipynb#ch0000033?line=0'>1</a>\u001b[0m \u001b[39mdef\u001b[39;00m \u001b[39mrun_tflite_model\u001b[39m(image_path, quantization):\n\u001b[0;32m      <a href='vscode-notebook-cell:/d%3A/Grox%27s%20Vault/Laboratory/Repos/Foodergy-OCR/OCR_TFLITE.ipynb#ch0000033?line=1'>2</a>\u001b[0m     input_data \u001b[39m=\u001b[39m cv2\u001b[39m.\u001b[39mimread(image_path, cv2\u001b[39m.\u001b[39mIMREAD_GRAYSCALE)\n\u001b[1;32m----> <a href='vscode-notebook-cell:/d%3A/Grox%27s%20Vault/Laboratory/Repos/Foodergy-OCR/OCR_TFLITE.ipynb#ch0000033?line=2'>3</a>\u001b[0m     input_data \u001b[39m=\u001b[39m cv2\u001b[39m.\u001b[39;49mresize(input_data, (\u001b[39m200\u001b[39;49m, \u001b[39m31\u001b[39;49m))\n\u001b[0;32m      <a href='vscode-notebook-cell:/d%3A/Grox%27s%20Vault/Laboratory/Repos/Foodergy-OCR/OCR_TFLITE.ipynb#ch0000033?line=3'>4</a>\u001b[0m     input_data \u001b[39m=\u001b[39m input_data[np\u001b[39m.\u001b[39mnewaxis]\n\u001b[0;32m      <a href='vscode-notebook-cell:/d%3A/Grox%27s%20Vault/Laboratory/Repos/Foodergy-OCR/OCR_TFLITE.ipynb#ch0000033?line=4'>5</a>\u001b[0m     input_data \u001b[39m=\u001b[39m np\u001b[39m.\u001b[39mexpand_dims(input_data, \u001b[39m3\u001b[39m)\n",
            "\u001b[1;31merror\u001b[0m: OpenCV(4.5.5) D:\\a\\opencv-python\\opencv-python\\opencv\\modules\\imgproc\\src\\resize.cpp:4052: error: (-215:Assertion failed) !ssize.empty() in function 'cv::resize'\n"
          ]
        }
      ],
      "source": [
        "# Local: running Dynamic Range Quantization\n",
        "tflite_output = run_tflite_model(image_path, 'dr')\n",
        "final_output = \"\".join(alphabets[index] for index in tflite_output[0] if index not in [blank_index, -1])\n",
        "print(final_output)\n",
        "Image(filename=image_path)"
      ]
    },
    {
      "cell_type": "code",
      "execution_count": 23,
      "metadata": {
        "colab": {
          "base_uri": "https://localhost:8080/",
          "height": 106
        },
        "id": "DPsb744KgGqw",
        "outputId": "ccefad96-91a4-4095-b4b7-d70b38ef5490"
      },
      "outputs": [
        {
          "name": "stdout",
          "output_type": "stream",
          "text": [
            "e\n"
          ]
        },
        {
          "data": {
            "image/jpeg": "[encoded data removed]",
            "text/plain": [
              "<IPython.core.display.Image object>"
            ]
          },
          "execution_count": 23,
          "metadata": {},
          "output_type": "execute_result"
        }
      ],
      "source": [
        "# Local: Running Float16 Quantization\n",
        "tflite_output = run_tflite_model(image_path, 'float16')\n",
        "final_output = \"\".join(alphabets[index] for index in tflite_output[0] if index not in [blank_index, -1])\n",
        "print(final_output)\n",
        "Image(filename=image_path)"
      ]
    }
  ],
  "metadata": {
    "colab": {
      "collapsed_sections": [],
      "name": "KERAS_OCR_TFLITE.ipynb",
      "provenance": [],
      "toc_visible": true
    },
    "interpreter": {
      "hash": "9f581522c850450c359f764840c595e4f18f80b799aeb96f55bf0291118ab262"
    },
    "kernelspec": {
      "display_name": "Python 3.9.4 64-bit",
      "language": "python",
      "name": "python3"
    },
    "language_info": {
      "codemirror_mode": {
        "name": "ipython",
        "version": 3
      },
      "file_extension": ".py",
      "mimetype": "text/x-python",
      "name": "python",
      "nbconvert_exporter": "python",
      "pygments_lexer": "ipython3",
      "version": "3.9.4"
    }
  },
  "nbformat": 4,
  "nbformat_minor": 0
}
